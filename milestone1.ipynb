{
 "cells": [
  {
   "cell_type": "markdown",
   "id": "eda5ed41-457e-430d-9d29-131458d2419a",
   "metadata": {},
   "source": [
    "MileStone 1"
   ]
  },
  {
   "cell_type": "markdown",
   "id": "2ebdfee0-36cb-4bc8-9287-adaf4b21f088",
   "metadata": {},
   "source": [
    "1) change column names\r\n",
    "\r\n",
    "FAVC - frequent_consumption_of_high_caloric_food\r\n",
    "FCVC - frequency_of_consumption_of_vegetables\r\n",
    "NCP - number_of_main_meals\r\n",
    "CAEC - consumption_of_food_between_meals\r\n",
    "CH20 - consumption_of_water_daily\r\n",
    "CALC - consumption_of_alcohol\r\n",
    "SCC - calories_consumption_monitoring\r\n",
    "FAF -  physical_activity_frequency\r\n",
    "TUE - time_using_technology_devices\r\n",
    "MTRANS - transportation_used\r\n",
    "NObeyesdad - obesity_level"
   ]
  },
  {
   "cell_type": "code",
   "execution_count": 4,
   "id": "3494ad5e-9a94-4df8-bc39-9d19fe685081",
   "metadata": {},
   "outputs": [],
   "source": [
    "import pandas as pd\n",
    "\n",
    "\n",
    "df = pd.read_csv('train_modified.csv')\n",
    "\n",
    "\n",
    "df.rename(columns={\n",
    "    'FAVC': 'frequent_consumption_of_high_caloric_food',\n",
    "    'FCVC': 'frequency_of_consumption_of_vegetables',\n",
    "    'NCP': 'number_of_main_meals',\n",
    "    'CAEC': 'consumption_of_food_between_meals',\n",
    "    'CH20': 'consumption_of_water_daily',\n",
    "    'CALC': 'consumption_of_alcohol',\n",
    "    'SCC': 'calories_consumption_monitoring',\n",
    "    'FAF': 'physical_activity_frequency',\n",
    "    'TUE': 'time_using_technology_devices',\n",
    "    'MTRANS': 'transportation_used',\n",
    "    'NObeyesdad': 'obesity_level'\n",
    "}, inplace=True)\n"
   ]
  },
  {
   "cell_type": "markdown",
   "id": "3ac0ef59-a91a-434d-a0f9-b23a19b23e19",
   "metadata": {},
   "source": [
    "2)Finding and removing duplicate values"
   ]
  },
  {
   "cell_type": "code",
   "execution_count": 6,
   "id": "d9712e9e-ac5a-4dba-bae3-af9e73d1e51e",
   "metadata": {},
   "outputs": [],
   "source": [
    "# Find duplicate\n",
    "duplicates = df[df.duplicated()]\n",
    "\n",
    "# Remove duplicate\n",
    "df.drop_duplicates(inplace=True)\n"
   ]
  },
  {
   "cell_type": "markdown",
   "id": "3548d7ff-d599-43d0-a760-c8ca6dd57436",
   "metadata": {},
   "source": [
    "3) checking of any null or empty values(12,15)"
   ]
  },
  {
   "cell_type": "code",
   "execution_count": 7,
   "id": "08014fea-66e0-4ce4-8792-fb8e15e32b42",
   "metadata": {},
   "outputs": [],
   "source": [
    "# Checking for null values\n",
    "null_values = df.isnull().sum()\n",
    "\n",
    "# Check for strings in the specified columns (12, 15) \n",
    "empty_values_12 = df.iloc[:, 11].eq('').sum()\n",
    "empty_values_15 = df.iloc[:, 14].eq('').sum()\n",
    "\n",
    "# Replace empty strings with NaN for consistency\n",
    "df.replace('', pd.NA, inplace=True)\n",
    "\n",
    "# If desired, drop rows with null values in any column\n",
    "df.dropna(inplace=True)\n"
   ]
  },
  {
   "cell_type": "markdown",
   "id": "baf56948-6aa9-46fd-9a80-df5784934ce3",
   "metadata": {},
   "source": [
    "4)converting to csv"
   ]
  },
  {
   "cell_type": "code",
   "execution_count": 8,
   "id": "0aff6090-c824-4574-9f39-64bc651eb6a1",
   "metadata": {},
   "outputs": [],
   "source": [
    "#save the new csv file\n",
    "df.to_csv('cleaned_data.csv', index=False)\n"
   ]
  }
 ],
 "metadata": {
  "kernelspec": {
   "display_name": "Python 3 (ipykernel)",
   "language": "python",
   "name": "python3"
  },
  "language_info": {
   "codemirror_mode": {
    "name": "ipython",
    "version": 3
   },
   "file_extension": ".py",
   "mimetype": "text/x-python",
   "name": "python",
   "nbconvert_exporter": "python",
   "pygments_lexer": "ipython3",
   "version": "3.11.9"
  }
 },
 "nbformat": 4,
 "nbformat_minor": 5
}
